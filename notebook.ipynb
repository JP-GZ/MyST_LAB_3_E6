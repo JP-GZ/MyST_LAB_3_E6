{
 "cells": [
  {
   "cell_type": "markdown",
   "metadata": {},
   "source": [
    "<center> <img src=\"http://oci02.img.iteso.mx/identidad_de_instancia_2018/ITESO/Logos%20ITESO/Logo-ITESO-Principal.jpg\" align=\"center\" width=\"960\" height=\"480\"/> </center>"
   ]
  },
  {
   "cell_type": "markdown",
   "metadata": {},
   "source": [
    "<center><font color=#555555><font size=6> MAF1731 - Microstructure and Trading Systems </font> <br> <br>\n",
    "    \n",
    "<center><font color=#555555><font size=5> B.Eng Financial Engineering </font> <br> <br> <br> <br>\n",
    "\n",
    "<center><font color=#555555><font size=5> I.F. Andrés González Luna Díaz del Castillo </font> <br> <br>  \n",
    "\n",
    "<center><font color=#555555><font size=5> I.F. Gabriela Ivonne Montoya Ortiz </font> <br> <br>\n",
    "    \n",
    "<center><font color=#555555><font size=5> I.F. Juan Pablo Gutierrez Zaragoza </font> <br> <br>\n",
    "    \n",
    "<center><font color=#555555><font size=5> I.F. Aniel Esthefania Villanueva Mendoza </font> <br> <br>\n",
    "<space>    \n",
    "\n",
    "<center> <font color= #555555> <font size = 31> March 2023 </a> | <font color= #555555> <font size = 4> Repository: <a href='https://github.com/JP-GZ/MyST_LAB_3_E6'>Link</a></font>"
   ]
  },
  {
   "cell_type": "markdown",
   "metadata": {},
   "source": [
    "<hr style=\"border:0.02in solid gray\"> </hr>"
   ]
  },
  {
   "cell_type": "markdown",
   "metadata": {},
   "source": [
    "<center> <font color= #555555> <font size = 6> Lab 3 </font> <br> <br> <font color= #555555> <font size = 5> Behavorial Finance  </font>"
   ]
  },
  {
   "cell_type": "markdown",
   "metadata": {},
   "source": [
    "<hr style=\"border:0.02in solid gray\"> </hr>"
   ]
  },
  {
   "cell_type": "markdown",
   "metadata": {},
   "source": [
    "<br>"
   ]
  },
  {
   "cell_type": "markdown",
   "metadata": {},
   "source": [
    "<font color= #555555> <font size = 4> Abstract </font>"
   ]
  },
  {
   "cell_type": "markdown",
   "metadata": {},
   "source": [
    "<font color= #6B6B6B> <font size = 3>  Include here a description of the whole work, use no more than 400 words, you can use **Bold** and *Italic* highlights, also you can inclue [links](www.iteso.mx). Usually is a good strategy to generate this text at the very end of the process, since you have to include all aspects of the work, from a brief introduction, to problem definitions and methods used, to finally the results found. </font>"
   ]
  },
  {
   "cell_type": "markdown",
   "metadata": {},
   "source": [
    "<br>"
   ]
  },
  {
   "cell_type": "markdown",
   "metadata": {},
   "source": [
    "# <font color= #6B6B6B> <font size = 6> 1. Introduction </font>"
   ]
  },
  {
   "cell_type": "markdown",
   "metadata": {},
   "source": [
    "<hr style=\"border:0.02in solid gray\"> </hr>"
   ]
  },
  {
   "cell_type": "markdown",
   "metadata": {},
   "source": [
    "Behavioral Econcomics were pionereed by Daniel Kahnemena and Amos Tversky at the beggining of the 1960s. In their studies they discovered that humans do not behave in a rational way. For example, a person is more likely to double down on a loss, than to double down on a win. This irrational behavior contradics the basis of Economics, in which decisions are always rational, and people try to maximize the expected value of their earnings (Expected Utility Theory).   \n",
    "  \n",
    " In Prospect Theory, basic objects of preference are changes in the stat of a neutral reference point. The function has risk averiosn in winnings, but risk propension in losses. People do not evaluate their probabilities in a linear way. This can lead to cognitive bias, in which a person commits a systematic mistake in a thought process. Four cognitive biases are: over-confidence, confirmation, overweight, and \"What ou see is all there is\".   \n",
    "   \n",
    "   In this lab we will be evaluating if our previous technical day trading stragies were rational, or if we fell into cognitive biases. "
   ]
  },
  {
   "cell_type": "markdown",
   "metadata": {},
   "source": [
    "<br>"
   ]
  },
  {
   "cell_type": "markdown",
   "metadata": {},
   "source": [
    "# <font color= #6B6B6B> 2. Install/Load Packages and Depedencies </font>"
   ]
  },
  {
   "cell_type": "markdown",
   "metadata": {},
   "source": [
    "<hr style=\"border:0.02in solid gray\"> </hr>"
   ]
  },
  {
   "cell_type": "code",
   "execution_count": 1,
   "metadata": {},
   "outputs": [],
   "source": [
    "import main\n",
    "import functions\n",
    "import pandas as pd"
   ]
  },
  {
   "cell_type": "markdown",
   "metadata": {},
   "source": [
    "<br>"
   ]
  },
  {
   "cell_type": "markdown",
   "metadata": {},
   "source": [
    "## <font color= #6B6B6B> 2.2 Python Packages </font> <font color= #555555>"
   ]
  },
  {
   "cell_type": "markdown",
   "metadata": {},
   "source": [
    "In order to run this notebook, it is necessary to have installed and/or have the _requirements.txt_ file with the following: "
   ]
  },
  {
   "cell_type": "markdown",
   "metadata": {},
   "source": [
    "- pandas>=1.1.0\n",
    "- numpy>=1.19.1\n",
    "- jupyter>=1.0.0\n",
    "- chart_studio>=1.1\n",
    "- plotly>=4.14\n",
    "- MetaTrader5"
   ]
  },
  {
   "cell_type": "markdown",
   "metadata": {},
   "source": [
    "## <font color= #6B6B6B> 2.3 Files Dependencies </font> <font color= #555555>"
   ]
  },
  {
   "cell_type": "markdown",
   "metadata": {},
   "source": [
    "The following are the file dependencies that are needed to run this notebook:"
   ]
  },
  {
   "cell_type": "markdown",
   "metadata": {},
   "source": [
    "- files/Accounts.csv : Precios históricos\n",
    "- files/instruments_pips.csv : Pips proporcionados por el profesor "
   ]
  },
  {
   "cell_type": "markdown",
   "metadata": {},
   "source": [
    "## <font color= #6E6E6E> 2.3 Install Packages</font>"
   ]
  },
  {
   "cell_type": "code",
   "execution_count": 2,
   "metadata": {},
   "outputs": [],
   "source": [
    "%%capture\n",
    "# Install all the pip packages in the requirements.txt\n",
    "import sys\n",
    "!{sys.executable} -m pip install -r requirements.txt"
   ]
  },
  {
   "cell_type": "markdown",
   "metadata": {},
   "source": [
    "<br>"
   ]
  },
  {
   "cell_type": "markdown",
   "metadata": {},
   "source": [
    "# <font color= #6B6B6B> 1. Descriptive Statistics </font>"
   ]
  },
  {
   "cell_type": "markdown",
   "metadata": {},
   "source": [
    "<hr style=\"border:0.02in solid gray\"> </hr>"
   ]
  },
  {
   "cell_type": "code",
   "execution_count": 3,
   "metadata": {},
   "outputs": [
    {
     "name": "stdout",
     "output_type": "stream",
     "text": [
      "Nombres disponibles: ['JP', 'Aniel', 'Andres', 'Gabriela']\n",
      "Ingrese nombre cuenta a utilizar:JP\n",
      "26\n"
     ]
    }
   ],
   "source": [
    "historico,estadistica,ranks= main.estadistica_descriptiva()"
   ]
  },
  {
   "cell_type": "code",
   "execution_count": 4,
   "metadata": {},
   "outputs": [
    {
     "data": {
      "text/html": [
       "<div>\n",
       "<style scoped>\n",
       "    .dataframe tbody tr th:only-of-type {\n",
       "        vertical-align: middle;\n",
       "    }\n",
       "\n",
       "    .dataframe tbody tr th {\n",
       "        vertical-align: top;\n",
       "    }\n",
       "\n",
       "    .dataframe thead th {\n",
       "        text-align: right;\n",
       "    }\n",
       "</style>\n",
       "<table border=\"1\" class=\"dataframe\">\n",
       "  <thead>\n",
       "    <tr style=\"text-align: right;\">\n",
       "      <th></th>\n",
       "      <th>Position</th>\n",
       "      <th>Time</th>\n",
       "      <th>Symbol</th>\n",
       "      <th>Type</th>\n",
       "      <th>Volume</th>\n",
       "      <th>Price</th>\n",
       "      <th>Time.1</th>\n",
       "      <th>Price.1</th>\n",
       "      <th>Commission</th>\n",
       "      <th>Swap</th>\n",
       "      <th>Profit</th>\n",
       "      <th>opentime</th>\n",
       "      <th>closetime</th>\n",
       "      <th>TiempoF</th>\n",
       "      <th>pips</th>\n",
       "      <th>pips_acm</th>\n",
       "      <th>profit_acm</th>\n",
       "    </tr>\n",
       "  </thead>\n",
       "  <tbody>\n",
       "    <tr>\n",
       "      <th>0</th>\n",
       "      <td>68955937</td>\n",
       "      <td>1676652795</td>\n",
       "      <td>EURUSD</td>\n",
       "      <td>buy</td>\n",
       "      <td>0.01</td>\n",
       "      <td>1.06413</td>\n",
       "      <td>1676652908</td>\n",
       "      <td>1.06383</td>\n",
       "      <td>0.0</td>\n",
       "      <td>0.00</td>\n",
       "      <td>-0.30</td>\n",
       "      <td>2023-02-17 10:53:15</td>\n",
       "      <td>2023-02-17 10:55:08</td>\n",
       "      <td>113.0</td>\n",
       "      <td>-3.0</td>\n",
       "      <td>-3.0</td>\n",
       "      <td>-0.30</td>\n",
       "    </tr>\n",
       "    <tr>\n",
       "      <th>1</th>\n",
       "      <td>68956275</td>\n",
       "      <td>1676653014</td>\n",
       "      <td>EURUSD</td>\n",
       "      <td>buy</td>\n",
       "      <td>0.01</td>\n",
       "      <td>1.06422</td>\n",
       "      <td>1676653168</td>\n",
       "      <td>1.06405</td>\n",
       "      <td>0.0</td>\n",
       "      <td>0.00</td>\n",
       "      <td>-0.17</td>\n",
       "      <td>2023-02-17 10:56:54</td>\n",
       "      <td>2023-02-17 10:59:28</td>\n",
       "      <td>154.0</td>\n",
       "      <td>-1.7</td>\n",
       "      <td>-4.7</td>\n",
       "      <td>-0.47</td>\n",
       "    </tr>\n",
       "    <tr>\n",
       "      <th>2</th>\n",
       "      <td>69424209</td>\n",
       "      <td>1677599530</td>\n",
       "      <td>EURUSD</td>\n",
       "      <td>sell</td>\n",
       "      <td>0.02</td>\n",
       "      <td>1.06235</td>\n",
       "      <td>1677599866</td>\n",
       "      <td>1.06325</td>\n",
       "      <td>0.0</td>\n",
       "      <td>0.00</td>\n",
       "      <td>-1.80</td>\n",
       "      <td>2023-02-28 09:52:10</td>\n",
       "      <td>2023-02-28 09:57:46</td>\n",
       "      <td>336.0</td>\n",
       "      <td>-9.0</td>\n",
       "      <td>-13.7</td>\n",
       "      <td>-2.27</td>\n",
       "    </tr>\n",
       "    <tr>\n",
       "      <th>3</th>\n",
       "      <td>69424706</td>\n",
       "      <td>1677599892</td>\n",
       "      <td>EURUSD</td>\n",
       "      <td>buy</td>\n",
       "      <td>0.02</td>\n",
       "      <td>1.06307</td>\n",
       "      <td>1677600292</td>\n",
       "      <td>1.06362</td>\n",
       "      <td>0.0</td>\n",
       "      <td>0.00</td>\n",
       "      <td>1.10</td>\n",
       "      <td>2023-02-28 09:58:12</td>\n",
       "      <td>2023-02-28 10:04:52</td>\n",
       "      <td>400.0</td>\n",
       "      <td>5.5</td>\n",
       "      <td>-8.2</td>\n",
       "      <td>-1.17</td>\n",
       "    </tr>\n",
       "    <tr>\n",
       "      <th>4</th>\n",
       "      <td>69425491</td>\n",
       "      <td>1677600408</td>\n",
       "      <td>EURUSD</td>\n",
       "      <td>buy</td>\n",
       "      <td>0.10</td>\n",
       "      <td>1.06387</td>\n",
       "      <td>1677600688</td>\n",
       "      <td>1.06356</td>\n",
       "      <td>0.0</td>\n",
       "      <td>0.00</td>\n",
       "      <td>-3.10</td>\n",
       "      <td>2023-02-28 10:06:48</td>\n",
       "      <td>2023-02-28 10:11:28</td>\n",
       "      <td>280.0</td>\n",
       "      <td>-3.1</td>\n",
       "      <td>-11.3</td>\n",
       "      <td>-4.27</td>\n",
       "    </tr>\n",
       "    <tr>\n",
       "      <th>5</th>\n",
       "      <td>69442994</td>\n",
       "      <td>1677610680</td>\n",
       "      <td>EURCAD</td>\n",
       "      <td>sell</td>\n",
       "      <td>0.10</td>\n",
       "      <td>1.44337</td>\n",
       "      <td>1677611182</td>\n",
       "      <td>1.44314</td>\n",
       "      <td>0.0</td>\n",
       "      <td>0.00</td>\n",
       "      <td>1.69</td>\n",
       "      <td>2023-02-28 12:58:00</td>\n",
       "      <td>2023-02-28 13:06:22</td>\n",
       "      <td>502.0</td>\n",
       "      <td>2.3</td>\n",
       "      <td>-9.0</td>\n",
       "      <td>-2.58</td>\n",
       "    </tr>\n",
       "    <tr>\n",
       "      <th>6</th>\n",
       "      <td>69531658</td>\n",
       "      <td>1677706707</td>\n",
       "      <td>EURGBP</td>\n",
       "      <td>sell</td>\n",
       "      <td>0.05</td>\n",
       "      <td>0.88771</td>\n",
       "      <td>1677707202</td>\n",
       "      <td>0.88720</td>\n",
       "      <td>0.0</td>\n",
       "      <td>0.00</td>\n",
       "      <td>3.06</td>\n",
       "      <td>2023-03-01 15:38:27</td>\n",
       "      <td>2023-03-01 15:46:42</td>\n",
       "      <td>495.0</td>\n",
       "      <td>5.1</td>\n",
       "      <td>-3.9</td>\n",
       "      <td>0.48</td>\n",
       "    </tr>\n",
       "    <tr>\n",
       "      <th>7</th>\n",
       "      <td>69531309</td>\n",
       "      <td>1677705661</td>\n",
       "      <td>USDMXN</td>\n",
       "      <td>sell</td>\n",
       "      <td>0.10</td>\n",
       "      <td>18.14155</td>\n",
       "      <td>1677711464</td>\n",
       "      <td>18.12955</td>\n",
       "      <td>0.0</td>\n",
       "      <td>0.00</td>\n",
       "      <td>6.62</td>\n",
       "      <td>2023-03-01 15:21:01</td>\n",
       "      <td>2023-03-01 16:57:44</td>\n",
       "      <td>5803.0</td>\n",
       "      <td>120.0</td>\n",
       "      <td>116.1</td>\n",
       "      <td>7.10</td>\n",
       "    </tr>\n",
       "    <tr>\n",
       "      <th>8</th>\n",
       "      <td>69531754</td>\n",
       "      <td>1677707051</td>\n",
       "      <td>AUDUSD</td>\n",
       "      <td>buy</td>\n",
       "      <td>0.03</td>\n",
       "      <td>0.67506</td>\n",
       "      <td>1677718904</td>\n",
       "      <td>0.67563</td>\n",
       "      <td>0.0</td>\n",
       "      <td>-0.13</td>\n",
       "      <td>1.71</td>\n",
       "      <td>2023-03-01 15:44:11</td>\n",
       "      <td>2023-03-01 19:01:44</td>\n",
       "      <td>11853.0</td>\n",
       "      <td>5.7</td>\n",
       "      <td>121.8</td>\n",
       "      <td>8.81</td>\n",
       "    </tr>\n",
       "    <tr>\n",
       "      <th>9</th>\n",
       "      <td>69593448</td>\n",
       "      <td>1677796094</td>\n",
       "      <td>GBPCAD</td>\n",
       "      <td>buy</td>\n",
       "      <td>0.05</td>\n",
       "      <td>1.62470</td>\n",
       "      <td>1677801604</td>\n",
       "      <td>1.62344</td>\n",
       "      <td>0.0</td>\n",
       "      <td>-0.21</td>\n",
       "      <td>-4.63</td>\n",
       "      <td>2023-03-02 16:28:14</td>\n",
       "      <td>2023-03-02 18:00:04</td>\n",
       "      <td>5510.0</td>\n",
       "      <td>-12.6</td>\n",
       "      <td>109.2</td>\n",
       "      <td>4.18</td>\n",
       "    </tr>\n",
       "    <tr>\n",
       "      <th>10</th>\n",
       "      <td>69593328</td>\n",
       "      <td>1677795653</td>\n",
       "      <td>CADCHF</td>\n",
       "      <td>sell</td>\n",
       "      <td>0.09</td>\n",
       "      <td>0.69218</td>\n",
       "      <td>1677801610</td>\n",
       "      <td>0.69379</td>\n",
       "      <td>0.0</td>\n",
       "      <td>-0.84</td>\n",
       "      <td>-15.39</td>\n",
       "      <td>2023-03-02 16:20:53</td>\n",
       "      <td>2023-03-02 18:00:10</td>\n",
       "      <td>5957.0</td>\n",
       "      <td>-16.1</td>\n",
       "      <td>93.1</td>\n",
       "      <td>-11.21</td>\n",
       "    </tr>\n",
       "    <tr>\n",
       "      <th>11</th>\n",
       "      <td>69595637</td>\n",
       "      <td>1677807153</td>\n",
       "      <td>GBPJPY</td>\n",
       "      <td>buy</td>\n",
       "      <td>0.20</td>\n",
       "      <td>163.22800</td>\n",
       "      <td>1677807433</td>\n",
       "      <td>163.17700</td>\n",
       "      <td>0.0</td>\n",
       "      <td>0.00</td>\n",
       "      <td>-7.47</td>\n",
       "      <td>2023-03-02 19:32:33</td>\n",
       "      <td>2023-03-02 19:37:13</td>\n",
       "      <td>280.0</td>\n",
       "      <td>-5.1</td>\n",
       "      <td>88.0</td>\n",
       "      <td>-18.68</td>\n",
       "    </tr>\n",
       "    <tr>\n",
       "      <th>12</th>\n",
       "      <td>69596129</td>\n",
       "      <td>1677808318</td>\n",
       "      <td>CADJPY</td>\n",
       "      <td>buy</td>\n",
       "      <td>0.01</td>\n",
       "      <td>100.52800</td>\n",
       "      <td>1677808334</td>\n",
       "      <td>100.48900</td>\n",
       "      <td>0.0</td>\n",
       "      <td>0.00</td>\n",
       "      <td>-0.29</td>\n",
       "      <td>2023-03-02 19:51:58</td>\n",
       "      <td>2023-03-02 19:52:14</td>\n",
       "      <td>16.0</td>\n",
       "      <td>-3.9</td>\n",
       "      <td>84.1</td>\n",
       "      <td>-18.97</td>\n",
       "    </tr>\n",
       "    <tr>\n",
       "      <th>13</th>\n",
       "      <td>69596145</td>\n",
       "      <td>1677808347</td>\n",
       "      <td>EURJPY</td>\n",
       "      <td>buy</td>\n",
       "      <td>0.01</td>\n",
       "      <td>144.87900</td>\n",
       "      <td>1677808778</td>\n",
       "      <td>144.88500</td>\n",
       "      <td>0.0</td>\n",
       "      <td>0.00</td>\n",
       "      <td>0.04</td>\n",
       "      <td>2023-03-02 19:52:27</td>\n",
       "      <td>2023-03-02 19:59:38</td>\n",
       "      <td>431.0</td>\n",
       "      <td>0.6</td>\n",
       "      <td>84.7</td>\n",
       "      <td>-18.93</td>\n",
       "    </tr>\n",
       "    <tr>\n",
       "      <th>14</th>\n",
       "      <td>69596063</td>\n",
       "      <td>1677807785</td>\n",
       "      <td>GBPUSD</td>\n",
       "      <td>buy</td>\n",
       "      <td>0.20</td>\n",
       "      <td>1.19505</td>\n",
       "      <td>1677809968</td>\n",
       "      <td>1.19530</td>\n",
       "      <td>0.0</td>\n",
       "      <td>0.00</td>\n",
       "      <td>5.00</td>\n",
       "      <td>2023-03-02 19:43:05</td>\n",
       "      <td>2023-03-02 20:19:28</td>\n",
       "      <td>2183.0</td>\n",
       "      <td>2.5</td>\n",
       "      <td>87.2</td>\n",
       "      <td>-13.93</td>\n",
       "    </tr>\n",
       "    <tr>\n",
       "      <th>15</th>\n",
       "      <td>69596140</td>\n",
       "      <td>1677808338</td>\n",
       "      <td>CADJPY</td>\n",
       "      <td>buy</td>\n",
       "      <td>0.01</td>\n",
       "      <td>100.53600</td>\n",
       "      <td>1677809971</td>\n",
       "      <td>100.54900</td>\n",
       "      <td>0.0</td>\n",
       "      <td>0.00</td>\n",
       "      <td>0.10</td>\n",
       "      <td>2023-03-02 19:52:18</td>\n",
       "      <td>2023-03-02 20:19:31</td>\n",
       "      <td>1633.0</td>\n",
       "      <td>1.3</td>\n",
       "      <td>88.5</td>\n",
       "      <td>-13.83</td>\n",
       "    </tr>\n",
       "    <tr>\n",
       "      <th>16</th>\n",
       "      <td>69596126</td>\n",
       "      <td>1677808298</td>\n",
       "      <td>EURUSD</td>\n",
       "      <td>buy</td>\n",
       "      <td>0.20</td>\n",
       "      <td>1.06005</td>\n",
       "      <td>1677810042</td>\n",
       "      <td>1.06019</td>\n",
       "      <td>0.0</td>\n",
       "      <td>0.00</td>\n",
       "      <td>2.80</td>\n",
       "      <td>2023-03-02 19:51:38</td>\n",
       "      <td>2023-03-02 20:20:42</td>\n",
       "      <td>1744.0</td>\n",
       "      <td>1.4</td>\n",
       "      <td>89.9</td>\n",
       "      <td>-11.03</td>\n",
       "    </tr>\n",
       "    <tr>\n",
       "      <th>17</th>\n",
       "      <td>69596866</td>\n",
       "      <td>1677810107</td>\n",
       "      <td>EURUSD</td>\n",
       "      <td>sell</td>\n",
       "      <td>5.00</td>\n",
       "      <td>1.06018</td>\n",
       "      <td>1677810550</td>\n",
       "      <td>1.06005</td>\n",
       "      <td>0.0</td>\n",
       "      <td>0.00</td>\n",
       "      <td>65.00</td>\n",
       "      <td>2023-03-02 20:21:47</td>\n",
       "      <td>2023-03-02 20:29:10</td>\n",
       "      <td>443.0</td>\n",
       "      <td>1.3</td>\n",
       "      <td>91.2</td>\n",
       "      <td>53.97</td>\n",
       "    </tr>\n",
       "    <tr>\n",
       "      <th>18</th>\n",
       "      <td>69597081</td>\n",
       "      <td>1677811806</td>\n",
       "      <td>EURUSD</td>\n",
       "      <td>buy</td>\n",
       "      <td>5.00</td>\n",
       "      <td>1.06041</td>\n",
       "      <td>1677811939</td>\n",
       "      <td>1.06045</td>\n",
       "      <td>0.0</td>\n",
       "      <td>0.00</td>\n",
       "      <td>20.00</td>\n",
       "      <td>2023-03-02 20:50:06</td>\n",
       "      <td>2023-03-02 20:52:19</td>\n",
       "      <td>133.0</td>\n",
       "      <td>0.4</td>\n",
       "      <td>91.6</td>\n",
       "      <td>73.97</td>\n",
       "    </tr>\n",
       "    <tr>\n",
       "      <th>19</th>\n",
       "      <td>69597958</td>\n",
       "      <td>1677814490</td>\n",
       "      <td>USDCAD</td>\n",
       "      <td>buy</td>\n",
       "      <td>0.05</td>\n",
       "      <td>1.35881</td>\n",
       "      <td>1677814633</td>\n",
       "      <td>1.35827</td>\n",
       "      <td>0.0</td>\n",
       "      <td>0.00</td>\n",
       "      <td>-1.99</td>\n",
       "      <td>2023-03-02 21:34:50</td>\n",
       "      <td>2023-03-02 21:37:13</td>\n",
       "      <td>143.0</td>\n",
       "      <td>-5.4</td>\n",
       "      <td>86.2</td>\n",
       "      <td>71.98</td>\n",
       "    </tr>\n",
       "  </tbody>\n",
       "</table>\n",
       "</div>"
      ],
      "text/plain": [
       "    Position        Time  Symbol  Type  Volume      Price      Time.1  \\\n",
       "0   68955937  1676652795  EURUSD   buy    0.01    1.06413  1676652908   \n",
       "1   68956275  1676653014  EURUSD   buy    0.01    1.06422  1676653168   \n",
       "2   69424209  1677599530  EURUSD  sell    0.02    1.06235  1677599866   \n",
       "3   69424706  1677599892  EURUSD   buy    0.02    1.06307  1677600292   \n",
       "4   69425491  1677600408  EURUSD   buy    0.10    1.06387  1677600688   \n",
       "5   69442994  1677610680  EURCAD  sell    0.10    1.44337  1677611182   \n",
       "6   69531658  1677706707  EURGBP  sell    0.05    0.88771  1677707202   \n",
       "7   69531309  1677705661  USDMXN  sell    0.10   18.14155  1677711464   \n",
       "8   69531754  1677707051  AUDUSD   buy    0.03    0.67506  1677718904   \n",
       "9   69593448  1677796094  GBPCAD   buy    0.05    1.62470  1677801604   \n",
       "10  69593328  1677795653  CADCHF  sell    0.09    0.69218  1677801610   \n",
       "11  69595637  1677807153  GBPJPY   buy    0.20  163.22800  1677807433   \n",
       "12  69596129  1677808318  CADJPY   buy    0.01  100.52800  1677808334   \n",
       "13  69596145  1677808347  EURJPY   buy    0.01  144.87900  1677808778   \n",
       "14  69596063  1677807785  GBPUSD   buy    0.20    1.19505  1677809968   \n",
       "15  69596140  1677808338  CADJPY   buy    0.01  100.53600  1677809971   \n",
       "16  69596126  1677808298  EURUSD   buy    0.20    1.06005  1677810042   \n",
       "17  69596866  1677810107  EURUSD  sell    5.00    1.06018  1677810550   \n",
       "18  69597081  1677811806  EURUSD   buy    5.00    1.06041  1677811939   \n",
       "19  69597958  1677814490  USDCAD   buy    0.05    1.35881  1677814633   \n",
       "\n",
       "      Price.1  Commission  Swap  Profit            opentime  \\\n",
       "0     1.06383         0.0  0.00   -0.30 2023-02-17 10:53:15   \n",
       "1     1.06405         0.0  0.00   -0.17 2023-02-17 10:56:54   \n",
       "2     1.06325         0.0  0.00   -1.80 2023-02-28 09:52:10   \n",
       "3     1.06362         0.0  0.00    1.10 2023-02-28 09:58:12   \n",
       "4     1.06356         0.0  0.00   -3.10 2023-02-28 10:06:48   \n",
       "5     1.44314         0.0  0.00    1.69 2023-02-28 12:58:00   \n",
       "6     0.88720         0.0  0.00    3.06 2023-03-01 15:38:27   \n",
       "7    18.12955         0.0  0.00    6.62 2023-03-01 15:21:01   \n",
       "8     0.67563         0.0 -0.13    1.71 2023-03-01 15:44:11   \n",
       "9     1.62344         0.0 -0.21   -4.63 2023-03-02 16:28:14   \n",
       "10    0.69379         0.0 -0.84  -15.39 2023-03-02 16:20:53   \n",
       "11  163.17700         0.0  0.00   -7.47 2023-03-02 19:32:33   \n",
       "12  100.48900         0.0  0.00   -0.29 2023-03-02 19:51:58   \n",
       "13  144.88500         0.0  0.00    0.04 2023-03-02 19:52:27   \n",
       "14    1.19530         0.0  0.00    5.00 2023-03-02 19:43:05   \n",
       "15  100.54900         0.0  0.00    0.10 2023-03-02 19:52:18   \n",
       "16    1.06019         0.0  0.00    2.80 2023-03-02 19:51:38   \n",
       "17    1.06005         0.0  0.00   65.00 2023-03-02 20:21:47   \n",
       "18    1.06045         0.0  0.00   20.00 2023-03-02 20:50:06   \n",
       "19    1.35827         0.0  0.00   -1.99 2023-03-02 21:34:50   \n",
       "\n",
       "             closetime  TiempoF   pips  pips_acm  profit_acm  \n",
       "0  2023-02-17 10:55:08    113.0   -3.0      -3.0       -0.30  \n",
       "1  2023-02-17 10:59:28    154.0   -1.7      -4.7       -0.47  \n",
       "2  2023-02-28 09:57:46    336.0   -9.0     -13.7       -2.27  \n",
       "3  2023-02-28 10:04:52    400.0    5.5      -8.2       -1.17  \n",
       "4  2023-02-28 10:11:28    280.0   -3.1     -11.3       -4.27  \n",
       "5  2023-02-28 13:06:22    502.0    2.3      -9.0       -2.58  \n",
       "6  2023-03-01 15:46:42    495.0    5.1      -3.9        0.48  \n",
       "7  2023-03-01 16:57:44   5803.0  120.0     116.1        7.10  \n",
       "8  2023-03-01 19:01:44  11853.0    5.7     121.8        8.81  \n",
       "9  2023-03-02 18:00:04   5510.0  -12.6     109.2        4.18  \n",
       "10 2023-03-02 18:00:10   5957.0  -16.1      93.1      -11.21  \n",
       "11 2023-03-02 19:37:13    280.0   -5.1      88.0      -18.68  \n",
       "12 2023-03-02 19:52:14     16.0   -3.9      84.1      -18.97  \n",
       "13 2023-03-02 19:59:38    431.0    0.6      84.7      -18.93  \n",
       "14 2023-03-02 20:19:28   2183.0    2.5      87.2      -13.93  \n",
       "15 2023-03-02 20:19:31   1633.0    1.3      88.5      -13.83  \n",
       "16 2023-03-02 20:20:42   1744.0    1.4      89.9      -11.03  \n",
       "17 2023-03-02 20:29:10    443.0    1.3      91.2       53.97  \n",
       "18 2023-03-02 20:52:19    133.0    0.4      91.6       73.97  \n",
       "19 2023-03-02 21:37:13    143.0   -5.4      86.2       71.98  "
      ]
     },
     "execution_count": 4,
     "metadata": {},
     "output_type": "execute_result"
    }
   ],
   "source": [
    "historico"
   ]
  },
  {
   "cell_type": "code",
   "execution_count": 5,
   "metadata": {},
   "outputs": [
    {
     "data": {
      "text/html": [
       "<div>\n",
       "<style scoped>\n",
       "    .dataframe tbody tr th:only-of-type {\n",
       "        vertical-align: middle;\n",
       "    }\n",
       "\n",
       "    .dataframe tbody tr th {\n",
       "        vertical-align: top;\n",
       "    }\n",
       "\n",
       "    .dataframe thead th {\n",
       "        text-align: right;\n",
       "    }\n",
       "</style>\n",
       "<table border=\"1\" class=\"dataframe\">\n",
       "  <thead>\n",
       "    <tr style=\"text-align: right;\">\n",
       "      <th></th>\n",
       "      <th>Medida</th>\n",
       "      <th>Valor</th>\n",
       "    </tr>\n",
       "  </thead>\n",
       "  <tbody>\n",
       "    <tr>\n",
       "      <th>0</th>\n",
       "      <td>Ops totales</td>\n",
       "      <td>20.00</td>\n",
       "    </tr>\n",
       "    <tr>\n",
       "      <th>1</th>\n",
       "      <td>Ganadoras</td>\n",
       "      <td>11.00</td>\n",
       "    </tr>\n",
       "    <tr>\n",
       "      <th>2</th>\n",
       "      <td>Ganadoras_c</td>\n",
       "      <td>7.00</td>\n",
       "    </tr>\n",
       "    <tr>\n",
       "      <th>3</th>\n",
       "      <td>Ganadoras_v</td>\n",
       "      <td>4.00</td>\n",
       "    </tr>\n",
       "    <tr>\n",
       "      <th>4</th>\n",
       "      <td>Perdedoras</td>\n",
       "      <td>9.00</td>\n",
       "    </tr>\n",
       "    <tr>\n",
       "      <th>5</th>\n",
       "      <td>Perdedoras_c</td>\n",
       "      <td>7.00</td>\n",
       "    </tr>\n",
       "    <tr>\n",
       "      <th>6</th>\n",
       "      <td>Perdedoras_v</td>\n",
       "      <td>2.00</td>\n",
       "    </tr>\n",
       "    <tr>\n",
       "      <th>7</th>\n",
       "      <td>Mediana(Profit)</td>\n",
       "      <td>0.07</td>\n",
       "    </tr>\n",
       "    <tr>\n",
       "      <th>8</th>\n",
       "      <td>Mediana(Pips)</td>\n",
       "      <td>0.50</td>\n",
       "    </tr>\n",
       "    <tr>\n",
       "      <th>9</th>\n",
       "      <td>r_efectividad</td>\n",
       "      <td>0.55</td>\n",
       "    </tr>\n",
       "    <tr>\n",
       "      <th>10</th>\n",
       "      <td>r_proporcion</td>\n",
       "      <td>1.22</td>\n",
       "    </tr>\n",
       "    <tr>\n",
       "      <th>11</th>\n",
       "      <td>r_efectividad_c</td>\n",
       "      <td>0.35</td>\n",
       "    </tr>\n",
       "    <tr>\n",
       "      <th>12</th>\n",
       "      <td>r_efectividad_v</td>\n",
       "      <td>0.20</td>\n",
       "    </tr>\n",
       "  </tbody>\n",
       "</table>\n",
       "</div>"
      ],
      "text/plain": [
       "             Medida  Valor\n",
       "0       Ops totales  20.00\n",
       "1         Ganadoras  11.00\n",
       "2       Ganadoras_c   7.00\n",
       "3       Ganadoras_v   4.00\n",
       "4        Perdedoras   9.00\n",
       "5      Perdedoras_c   7.00\n",
       "6      Perdedoras_v   2.00\n",
       "7   Mediana(Profit)   0.07\n",
       "8     Mediana(Pips)   0.50\n",
       "9     r_efectividad   0.55\n",
       "10     r_proporcion   1.22\n",
       "11  r_efectividad_c   0.35\n",
       "12  r_efectividad_v   0.20"
      ]
     },
     "execution_count": 5,
     "metadata": {},
     "output_type": "execute_result"
    }
   ],
   "source": [
    "estadistica"
   ]
  },
  {
   "cell_type": "code",
   "execution_count": 6,
   "metadata": {},
   "outputs": [
    {
     "data": {
      "text/html": [
       "<div>\n",
       "<style scoped>\n",
       "    .dataframe tbody tr th:only-of-type {\n",
       "        vertical-align: middle;\n",
       "    }\n",
       "\n",
       "    .dataframe tbody tr th {\n",
       "        vertical-align: top;\n",
       "    }\n",
       "\n",
       "    .dataframe thead th {\n",
       "        text-align: right;\n",
       "    }\n",
       "</style>\n",
       "<table border=\"1\" class=\"dataframe\">\n",
       "  <thead>\n",
       "    <tr style=\"text-align: right;\">\n",
       "      <th></th>\n",
       "      <th>Symbol</th>\n",
       "      <th>rank %</th>\n",
       "    </tr>\n",
       "  </thead>\n",
       "  <tbody>\n",
       "    <tr>\n",
       "      <th>0</th>\n",
       "      <td>EURUSD</td>\n",
       "      <td>50.0</td>\n",
       "    </tr>\n",
       "    <tr>\n",
       "      <th>1</th>\n",
       "      <td>EURCAD</td>\n",
       "      <td>100.0</td>\n",
       "    </tr>\n",
       "    <tr>\n",
       "      <th>2</th>\n",
       "      <td>EURGBP</td>\n",
       "      <td>100.0</td>\n",
       "    </tr>\n",
       "    <tr>\n",
       "      <th>3</th>\n",
       "      <td>USDMXN</td>\n",
       "      <td>100.0</td>\n",
       "    </tr>\n",
       "    <tr>\n",
       "      <th>4</th>\n",
       "      <td>AUDUSD</td>\n",
       "      <td>100.0</td>\n",
       "    </tr>\n",
       "    <tr>\n",
       "      <th>5</th>\n",
       "      <td>GBPCAD</td>\n",
       "      <td>0.0</td>\n",
       "    </tr>\n",
       "    <tr>\n",
       "      <th>6</th>\n",
       "      <td>CADCHF</td>\n",
       "      <td>0.0</td>\n",
       "    </tr>\n",
       "    <tr>\n",
       "      <th>7</th>\n",
       "      <td>GBPJPY</td>\n",
       "      <td>0.0</td>\n",
       "    </tr>\n",
       "    <tr>\n",
       "      <th>8</th>\n",
       "      <td>CADJPY</td>\n",
       "      <td>50.0</td>\n",
       "    </tr>\n",
       "    <tr>\n",
       "      <th>9</th>\n",
       "      <td>EURJPY</td>\n",
       "      <td>100.0</td>\n",
       "    </tr>\n",
       "    <tr>\n",
       "      <th>10</th>\n",
       "      <td>GBPUSD</td>\n",
       "      <td>100.0</td>\n",
       "    </tr>\n",
       "    <tr>\n",
       "      <th>11</th>\n",
       "      <td>USDCAD</td>\n",
       "      <td>0.0</td>\n",
       "    </tr>\n",
       "  </tbody>\n",
       "</table>\n",
       "</div>"
      ],
      "text/plain": [
       "    Symbol  rank %\n",
       "0   EURUSD    50.0\n",
       "1   EURCAD   100.0\n",
       "2   EURGBP   100.0\n",
       "3   USDMXN   100.0\n",
       "4   AUDUSD   100.0\n",
       "5   GBPCAD     0.0\n",
       "6   CADCHF     0.0\n",
       "7   GBPJPY     0.0\n",
       "8   CADJPY    50.0\n",
       "9   EURJPY   100.0\n",
       "10  GBPUSD   100.0\n",
       "11  USDCAD     0.0"
      ]
     },
     "execution_count": 6,
     "metadata": {},
     "output_type": "execute_result"
    }
   ],
   "source": [
    "ranks"
   ]
  },
  {
   "cell_type": "markdown",
   "metadata": {},
   "source": [
    "<br>"
   ]
  },
  {
   "cell_type": "markdown",
   "metadata": {},
   "source": [
    "# <font color= #6B6B6B> 2. Performance Attribution Metrics  </font>"
   ]
  },
  {
   "cell_type": "markdown",
   "metadata": {},
   "source": [
    "<hr style=\"border:0.02in solid gray\"> </hr>"
   ]
  },
  {
   "cell_type": "code",
   "execution_count": 7,
   "metadata": {},
   "outputs": [
    {
     "data": {
      "text/html": [
       "<div>\n",
       "<style scoped>\n",
       "    .dataframe tbody tr th:only-of-type {\n",
       "        vertical-align: middle;\n",
       "    }\n",
       "\n",
       "    .dataframe tbody tr th {\n",
       "        vertical-align: top;\n",
       "    }\n",
       "\n",
       "    .dataframe thead th {\n",
       "        text-align: right;\n",
       "    }\n",
       "</style>\n",
       "<table border=\"1\" class=\"dataframe\">\n",
       "  <thead>\n",
       "    <tr style=\"text-align: right;\">\n",
       "      <th></th>\n",
       "      <th>profit_d</th>\n",
       "      <th>profit_acm_d</th>\n",
       "      <th>capital_acm</th>\n",
       "    </tr>\n",
       "  </thead>\n",
       "  <tbody>\n",
       "    <tr>\n",
       "      <th>2023-02-16</th>\n",
       "      <td>NaN</td>\n",
       "      <td>NaN</td>\n",
       "      <td>NaN</td>\n",
       "    </tr>\n",
       "    <tr>\n",
       "      <th>2023-02-17</th>\n",
       "      <td>-0.47</td>\n",
       "      <td>-0.47</td>\n",
       "      <td>99999.53</td>\n",
       "    </tr>\n",
       "    <tr>\n",
       "      <th>2023-02-18</th>\n",
       "      <td>NaN</td>\n",
       "      <td>NaN</td>\n",
       "      <td>NaN</td>\n",
       "    </tr>\n",
       "    <tr>\n",
       "      <th>2023-02-19</th>\n",
       "      <td>NaN</td>\n",
       "      <td>NaN</td>\n",
       "      <td>NaN</td>\n",
       "    </tr>\n",
       "    <tr>\n",
       "      <th>2023-02-20</th>\n",
       "      <td>NaN</td>\n",
       "      <td>NaN</td>\n",
       "      <td>NaN</td>\n",
       "    </tr>\n",
       "    <tr>\n",
       "      <th>2023-02-21</th>\n",
       "      <td>NaN</td>\n",
       "      <td>NaN</td>\n",
       "      <td>NaN</td>\n",
       "    </tr>\n",
       "    <tr>\n",
       "      <th>2023-02-22</th>\n",
       "      <td>NaN</td>\n",
       "      <td>NaN</td>\n",
       "      <td>NaN</td>\n",
       "    </tr>\n",
       "    <tr>\n",
       "      <th>2023-02-23</th>\n",
       "      <td>NaN</td>\n",
       "      <td>NaN</td>\n",
       "      <td>NaN</td>\n",
       "    </tr>\n",
       "    <tr>\n",
       "      <th>2023-02-24</th>\n",
       "      <td>NaN</td>\n",
       "      <td>NaN</td>\n",
       "      <td>NaN</td>\n",
       "    </tr>\n",
       "    <tr>\n",
       "      <th>2023-02-25</th>\n",
       "      <td>NaN</td>\n",
       "      <td>NaN</td>\n",
       "      <td>NaN</td>\n",
       "    </tr>\n",
       "    <tr>\n",
       "      <th>2023-02-26</th>\n",
       "      <td>NaN</td>\n",
       "      <td>NaN</td>\n",
       "      <td>NaN</td>\n",
       "    </tr>\n",
       "    <tr>\n",
       "      <th>2023-02-27</th>\n",
       "      <td>NaN</td>\n",
       "      <td>NaN</td>\n",
       "      <td>NaN</td>\n",
       "    </tr>\n",
       "    <tr>\n",
       "      <th>2023-02-28</th>\n",
       "      <td>-2.11</td>\n",
       "      <td>-2.58</td>\n",
       "      <td>99997.42</td>\n",
       "    </tr>\n",
       "    <tr>\n",
       "      <th>2023-03-01</th>\n",
       "      <td>11.39</td>\n",
       "      <td>8.81</td>\n",
       "      <td>100008.81</td>\n",
       "    </tr>\n",
       "    <tr>\n",
       "      <th>2023-03-02</th>\n",
       "      <td>63.17</td>\n",
       "      <td>71.98</td>\n",
       "      <td>100071.98</td>\n",
       "    </tr>\n",
       "  </tbody>\n",
       "</table>\n",
       "</div>"
      ],
      "text/plain": [
       "            profit_d  profit_acm_d  capital_acm\n",
       "2023-02-16       NaN           NaN          NaN\n",
       "2023-02-17     -0.47         -0.47     99999.53\n",
       "2023-02-18       NaN           NaN          NaN\n",
       "2023-02-19       NaN           NaN          NaN\n",
       "2023-02-20       NaN           NaN          NaN\n",
       "2023-02-21       NaN           NaN          NaN\n",
       "2023-02-22       NaN           NaN          NaN\n",
       "2023-02-23       NaN           NaN          NaN\n",
       "2023-02-24       NaN           NaN          NaN\n",
       "2023-02-25       NaN           NaN          NaN\n",
       "2023-02-26       NaN           NaN          NaN\n",
       "2023-02-27       NaN           NaN          NaN\n",
       "2023-02-28     -2.11         -2.58     99997.42\n",
       "2023-03-01     11.39          8.81    100008.81\n",
       "2023-03-02     63.17         71.98    100071.98"
      ]
     },
     "execution_count": 7,
     "metadata": {},
     "output_type": "execute_result"
    }
   ],
   "source": [
    "desempeno = functions.f_evolucion_capital(historico)\n",
    "desempeno"
   ]
  },
  {
   "cell_type": "code",
   "execution_count": 25,
   "metadata": {},
   "outputs": [
    {
     "name": "stdout",
     "output_type": "stream",
     "text": [
      "[*********************100%***********************]  1 of 1 completed\n"
     ]
    },
    {
     "data": {
      "text/html": [
       "<div>\n",
       "<style scoped>\n",
       "    .dataframe tbody tr th:only-of-type {\n",
       "        vertical-align: middle;\n",
       "    }\n",
       "\n",
       "    .dataframe tbody tr th {\n",
       "        vertical-align: top;\n",
       "    }\n",
       "\n",
       "    .dataframe thead th {\n",
       "        text-align: right;\n",
       "    }\n",
       "</style>\n",
       "<table border=\"1\" class=\"dataframe\">\n",
       "  <thead>\n",
       "    <tr style=\"text-align: right;\">\n",
       "      <th></th>\n",
       "      <th>Metrica</th>\n",
       "      <th></th>\n",
       "      <th>Valor</th>\n",
       "      <th>Descripcion</th>\n",
       "    </tr>\n",
       "  </thead>\n",
       "  <tbody>\n",
       "    <tr>\n",
       "      <th>0</th>\n",
       "      <td>sharpe_original</td>\n",
       "      <td>Cantidad</td>\n",
       "      <td>-0.914298</td>\n",
       "      <td>Sharpe Ratio Fórmula Original</td>\n",
       "    </tr>\n",
       "    <tr>\n",
       "      <th>1</th>\n",
       "      <td>sharpe_actualizado</td>\n",
       "      <td>Cantidad</td>\n",
       "      <td>16503.558706</td>\n",
       "      <td>Sharpe Ratio Fórmula Ajustada</td>\n",
       "    </tr>\n",
       "    <tr>\n",
       "      <th>2</th>\n",
       "      <td>drawdown_capi</td>\n",
       "      <td>Fecha Inicial</td>\n",
       "      <td>2023-02-16</td>\n",
       "      <td>Fecha inicial del DrawDown de Capital</td>\n",
       "    </tr>\n",
       "    <tr>\n",
       "      <th>3</th>\n",
       "      <td>drawdown_capi</td>\n",
       "      <td>Fecha Final</td>\n",
       "      <td>2023-02-16</td>\n",
       "      <td>Fecha final del DrawDown de Capital</td>\n",
       "    </tr>\n",
       "    <tr>\n",
       "      <th>4</th>\n",
       "      <td>drawdown_capi</td>\n",
       "      <td>Máxima pérdida flotante registrada</td>\n",
       "      <td>NaN</td>\n",
       "      <td>Máxima pérdida flotante registrada</td>\n",
       "    </tr>\n",
       "    <tr>\n",
       "      <th>5</th>\n",
       "      <td>drawup_capi</td>\n",
       "      <td>Fecha Inicial</td>\n",
       "      <td>2023-02-16</td>\n",
       "      <td>Fecha inicial del DrawUp de Capital</td>\n",
       "    </tr>\n",
       "    <tr>\n",
       "      <th>6</th>\n",
       "      <td>drawup_capi</td>\n",
       "      <td>Fecha Final</td>\n",
       "      <td>2023-02-16</td>\n",
       "      <td>Fecha final del DrawUp de Capital</td>\n",
       "    </tr>\n",
       "    <tr>\n",
       "      <th>7</th>\n",
       "      <td>drawup_capi</td>\n",
       "      <td>Máxima ganancia flotante registrada</td>\n",
       "      <td>NaN</td>\n",
       "      <td>Máxima ganancia flotante registrada</td>\n",
       "    </tr>\n",
       "  </tbody>\n",
       "</table>\n",
       "</div>"
      ],
      "text/plain": [
       "              Metrica                                              Valor  \\\n",
       "0     sharpe_original                             Cantidad     -0.914298   \n",
       "1  sharpe_actualizado                             Cantidad  16503.558706   \n",
       "2       drawdown_capi                        Fecha Inicial    2023-02-16   \n",
       "3       drawdown_capi                          Fecha Final    2023-02-16   \n",
       "4       drawdown_capi   Máxima pérdida flotante registrada           NaN   \n",
       "5         drawup_capi                        Fecha Inicial    2023-02-16   \n",
       "6         drawup_capi                          Fecha Final    2023-02-16   \n",
       "7         drawup_capi  Máxima ganancia flotante registrada           NaN   \n",
       "\n",
       "                             Descripcion  \n",
       "0          Sharpe Ratio Fórmula Original  \n",
       "1          Sharpe Ratio Fórmula Ajustada  \n",
       "2  Fecha inicial del DrawDown de Capital  \n",
       "3    Fecha final del DrawDown de Capital  \n",
       "4     Máxima pérdida flotante registrada  \n",
       "5    Fecha inicial del DrawUp de Capital  \n",
       "6      Fecha final del DrawUp de Capital  \n",
       "7    Máxima ganancia flotante registrada  "
      ]
     },
     "execution_count": 25,
     "metadata": {},
     "output_type": "execute_result"
    }
   ],
   "source": [
    "estadisticas_rs = functions.f_estadisiticas_mad(0.05, desempeno)\n",
    "estadisticas_rs[0]"
   ]
  },
  {
   "cell_type": "markdown",
   "metadata": {},
   "source": [
    "<br>"
   ]
  },
  {
   "cell_type": "markdown",
   "metadata": {},
   "source": [
    "# <font color= #6B6B6B> 3. Behavioral Finance  </font>"
   ]
  },
  {
   "cell_type": "markdown",
   "metadata": {},
   "source": [
    "<hr style=\"border:0.02in solid gray\"> </hr>"
   ]
  },
  {
   "cell_type": "code",
   "execution_count": 10,
   "metadata": {},
   "outputs": [
    {
     "data": {
      "text/plain": [
       "{'ocurrencias': [{'ocurrencia_1': {'timestamp': Timestamp('2023-02-28 13:06:22'),\n",
       "    'operaciones': {'ganadora': {'instrumento': 'EURCAD',\n",
       "      'volumen': 0.1,\n",
       "      'sentido': 'sell',\n",
       "      'profit_ganadora': 1.69},\n",
       "     'perdedora': {'instrumento': 'GBPCAD',\n",
       "      'volumen': 0.05,\n",
       "      'sentido': 'buy',\n",
       "      'profit_perdedora': -4.63}},\n",
       "    'ratio_cp_profit_acm': 1.1076555023923442,\n",
       "    'ratio_cg_profit_acm': 0.6550387596899225,\n",
       "    'ratio_cp_cg': 2.739644970414201}},\n",
       "  {'ocurrencia_2': {'timestamp': Timestamp('2023-03-01 19:01:44'),\n",
       "    'operaciones': {'ganadora': {'instrumento': 'AUDUSD',\n",
       "      'volumen': 0.03,\n",
       "      'sentido': 'buy',\n",
       "      'profit_ganadora': 1.71},\n",
       "     'perdedora': {'instrumento': 'GBPCAD',\n",
       "      'volumen': 0.05,\n",
       "      'sentido': 'buy',\n",
       "      'profit_perdedora': -4.63}},\n",
       "    'ratio_cp_profit_acm': 1.1076555023923442,\n",
       "    'ratio_cg_profit_acm': 0.19409761634506242,\n",
       "    'ratio_cp_cg': 2.7076023391812867}},\n",
       "  {'ocurrencia_3': {'timestamp': Timestamp('2023-03-02 19:59:38'),\n",
       "    'operaciones': {'ganadora': {'instrumento': 'EURJPY',\n",
       "      'volumen': 0.01,\n",
       "      'sentido': 'buy',\n",
       "      'profit_ganadora': 0.04},\n",
       "     'perdedora': {'instrumento': 'USDCAD',\n",
       "      'volumen': 0.05,\n",
       "      'sentido': 'buy',\n",
       "      'profit_perdedora': -1.99}},\n",
       "    'ratio_cp_profit_acm': 0.027646568491247567,\n",
       "    'ratio_cg_profit_acm': 0.0021130480718436345,\n",
       "    'ratio_cp_cg': 49.75}},\n",
       "  {'ocurrencia_4': {'timestamp': Timestamp('2023-03-02 20:19:31'),\n",
       "    'operaciones': {'ganadora': {'instrumento': 'CADJPY',\n",
       "      'volumen': 0.01,\n",
       "      'sentido': 'buy',\n",
       "      'profit_ganadora': 0.1},\n",
       "     'perdedora': {'instrumento': 'USDCAD',\n",
       "      'volumen': 0.05,\n",
       "      'sentido': 'buy',\n",
       "      'profit_perdedora': -1.99}},\n",
       "    'ratio_cp_profit_acm': 0.027646568491247567,\n",
       "    'ratio_cg_profit_acm': 0.007230657989877079,\n",
       "    'ratio_cp_cg': 19.9}}],\n",
       " 'cantidad': 4}"
      ]
     },
     "execution_count": 10,
     "metadata": {},
     "output_type": "execute_result"
    }
   ],
   "source": [
    "bf = functions.f_be_de(historico)\n",
    "bf"
   ]
  },
  {
   "cell_type": "markdown",
   "metadata": {},
   "source": [
    "<br>"
   ]
  },
  {
   "cell_type": "markdown",
   "metadata": {},
   "source": [
    "# <font color= #6B6B6B> 4. Visualizations  </font>"
   ]
  },
  {
   "cell_type": "markdown",
   "metadata": {},
   "source": [
    "<hr style=\"border:0.02in solid gray\"> </hr>"
   ]
  },
  {
   "cell_type": "code",
   "execution_count": 12,
   "metadata": {},
   "outputs": [],
   "source": [
    "# Ranking"
   ]
  },
  {
   "cell_type": "code",
   "execution_count": 13,
   "metadata": {},
   "outputs": [],
   "source": [
    "# DrawDown y DrawUp"
   ]
  },
  {
   "cell_type": "code",
   "execution_count": 14,
   "metadata": {},
   "outputs": [],
   "source": [
    "# Disposition Effect"
   ]
  },
  {
   "cell_type": "markdown",
   "metadata": {},
   "source": [
    "<br>"
   ]
  },
  {
   "cell_type": "markdown",
   "metadata": {},
   "source": [
    "# <font color= #6B6B6B> <font size = 6> 5. Results </font>"
   ]
  },
  {
   "cell_type": "markdown",
   "metadata": {},
   "source": [
    "<hr style=\"border:0.02in solid gray\"> </hr>"
   ]
  },
  {
   "cell_type": "code",
   "execution_count": 15,
   "metadata": {},
   "outputs": [],
   "source": [
    "# DELETE THIS CELL IN YOUR FILE\n",
    "\n",
    "# In here you present the general results, and also, a discussion of such results."
   ]
  },
  {
   "cell_type": "markdown",
   "metadata": {},
   "source": [
    "<br>"
   ]
  },
  {
   "cell_type": "markdown",
   "metadata": {},
   "source": [
    "## <font color= #6B6B6B> 5.1 Results of first processes </font>"
   ]
  },
  {
   "cell_type": "code",
   "execution_count": 16,
   "metadata": {},
   "outputs": [],
   "source": [
    "# DELETE THIS CELL IN YOUR FILE\n",
    "\n",
    "# Separate your results according to the main processes you are working on"
   ]
  },
  {
   "cell_type": "markdown",
   "metadata": {},
   "source": [
    "<br>"
   ]
  },
  {
   "cell_type": "markdown",
   "metadata": {},
   "source": [
    "## <font color= #6B6B6B> 5.2 Results of another proces </font>"
   ]
  },
  {
   "cell_type": "code",
   "execution_count": 17,
   "metadata": {},
   "outputs": [],
   "source": [
    "# DELETE THIS CELL IN YOUR FILE\n",
    "\n",
    "# You can have several processes with which you are obtaining the results you need."
   ]
  },
  {
   "cell_type": "markdown",
   "metadata": {},
   "source": [
    "<br>"
   ]
  },
  {
   "cell_type": "markdown",
   "metadata": {},
   "source": [
    "# <font color= #6B6B6B> <font size = 6> 6. References </font>"
   ]
  },
  {
   "cell_type": "markdown",
   "metadata": {},
   "source": [
    "<hr style=\"border:0.02in solid gray\"> </hr>"
   ]
  },
  {
   "cell_type": "code",
   "execution_count": 18,
   "metadata": {},
   "outputs": [],
   "source": [
    "# DELETE THIS CELL IN YOUR FILE\n",
    "\n",
    "# Citations, and other references you are using.\n",
    "\n",
    "# DO INCLUDE THE FOLLOWING CITATION FOR THIS TEMPLATE"
   ]
  },
  {
   "cell_type": "markdown",
   "metadata": {},
   "source": [
    "[1] Munnoz, 2020. Python project template. https://github.com/iffranciscome/python-project. (2021)."
   ]
  }
 ],
 "metadata": {
  "kernelspec": {
   "display_name": "Python 3",
   "language": "python",
   "name": "python3"
  },
  "language_info": {
   "codemirror_mode": {
    "name": "ipython",
    "version": 3
   },
   "file_extension": ".py",
   "mimetype": "text/x-python",
   "name": "python",
   "nbconvert_exporter": "python",
   "pygments_lexer": "ipython3",
   "version": "3.7.4"
  }
 },
 "nbformat": 4,
 "nbformat_minor": 4
}
